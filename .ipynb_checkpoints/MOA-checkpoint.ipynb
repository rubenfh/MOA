{
 "cells": [
  {
   "cell_type": "markdown",
   "metadata": {
    "id": "pNwOy7p6ZqFU"
   },
   "source": [
    "**Introduction**\n",
    "\n",
    "In this notebook, we will be predicting multiple targets of the Mechanism of Action (MoA) response(s) of different samples (sig_id), given various inputs such as gene expression data and cell viability data.\n"
   ]
  },
  {
   "cell_type": "markdown",
   "metadata": {},
   "source": [
    "## Import Library"
   ]
  },
  {
   "cell_type": "code",
   "execution_count": 1,
   "metadata": {},
   "outputs": [],
   "source": [
    "# ML library\n",
    "import tensorflow as tf\n",
    "from tensorflow.keras import layers\n",
    "from tensorflow.keras.layers.experimental import preprocessing\n",
    "\n",
    "from sklearn.model_selection import train_test_split\n",
    "from sklearn.utils import shuffle\n",
    "from sklearn.model_selection import train_test_split\n",
    "\n",
    "# Data manipulation library\n",
    "import matplotlib.pyplot as plt\n",
    "import pandas as pd\n",
    "import numpy as np\n",
    "# Make numpy values easier to read.\n",
    "np.set_printoptions(precision=3, suppress=True)\n"
   ]
  },
  {
   "cell_type": "markdown",
   "metadata": {
    "id": "aw3Xf8P1aD5A"
   },
   "source": [
    "# **Step 1:** Reading data using TF.DATA\n"
   ]
  },
  {
   "cell_type": "code",
   "execution_count": 3,
   "metadata": {
    "id": "PCa_umGDZJzb"
   },
   "outputs": [],
   "source": [
    "TRAIN_DATA_URL = \"https://drive.google.com/file/d/1cWd2o55ed-pf-Ia9umqJGTOlCFydwgyf/view?usp=sharing\"\n",
    "#Use Data Folder call : lish-moa who contains all csv\n",
    "TRAIN_FEATURES_PATH =  \"lish-moa/train_features.csv\"\n",
    "TRAIN_LABELS_PATH   =  \"lish-moa/train_targets_scored.csv\""
   ]
  },
  {
   "cell_type": "code",
   "execution_count": 4,
   "metadata": {},
   "outputs": [],
   "source": [
    "## TRAIN FEATURES \n",
    "#Read just one of features dataset and make a list of columns name (we remove sig_id with index_col=0)\n",
    "train_features_header_list  = pd.read_csv(TRAIN_FEATURES_PATH, \n",
    "                                          index_col=0,\n",
    "                                          nrows=1).columns.tolist()\n",
    "#Just the 3 first colunm are categorical, all of the rest are nuerical\n",
    "#We create 3 list with the features names (one categorical, one numerical)\n",
    "numerical_col_list   = train_features_header_list[3:]\n",
    "categorical_col_list = train_features_header_list[0:3]\n",
    "\n",
    "## TRAIN LABELS\n",
    "#Read just one of labels dataset and make a list of columns name (we remove sig_id with index_col=0)\n",
    "train_labels_header_list    = pd.read_csv(TRAIN_LABELS_PATH, \n",
    "                                          index_col=0,\n",
    "                                          nrows=1).columns.tolist()\n",
    "# Get the size of train dataset\n",
    "train_features_size = len(pd.read_csv(TRAIN_FEATURES_PATH,usecols=[numerical_col_list[0]]))\n",
    "train_label_size = len(pd.read_csv(TRAIN_LABELS_PATH,usecols=[train_labels_header_list[0]]))"
   ]
  },
  {
   "cell_type": "code",
   "execution_count": 5,
   "metadata": {},
   "outputs": [
    {
     "name": "stdout",
     "output_type": "stream",
     "text": [
      "NUMBER OF FEATURES ;  875\n",
      "NUMBER OF TARGET :  206\n",
      "TRAIN DATASET SIZE (features) :  23814\n",
      "TRAIN DATASET SIZE (labels) :  23814\n"
     ]
    }
   ],
   "source": [
    "print(\"NUMBER OF FEATURES ; \", len(train_features_header_list))\n",
    "print(\"NUMBER OF TARGET : \", len(train_labels_header_list))\n",
    "\n",
    "print(\"TRAIN DATASET SIZE (features) : \", train_features_size)\n",
    "print(\"TRAIN DATASET SIZE (labels) : \", train_label_size)"
   ]
  },
  {
   "cell_type": "code",
   "execution_count": 6,
   "metadata": {
    "id": "haPjCN6aKHKB"
   },
   "outputs": [],
   "source": [
    "# We define the size of each batch at 2048\n",
    "BATCH_SIZE=32\n",
    "# Load train features dataset with shuffling (seed = 54), batching (size = 2048)\n",
    "features = tf.data.experimental.make_csv_dataset(\n",
    "    file_pattern = TRAIN_FEATURES_PATH,\n",
    "    select_columns=train_features_header_list,\n",
    "    header=True,\n",
    "    batch_size=BATCH_SIZE,\n",
    "    shuffle_seed=54,\n",
    "    shuffle=True,\n",
    "    num_epochs=1,\n",
    "    num_parallel_reads=100\n",
    ")\n",
    "targets = tf.data.experimental.make_csv_dataset(\n",
    "    file_pattern=TRAIN_LABELS_PATH,\n",
    "    select_columns=train_labels_header_list,\n",
    "    header=True,\n",
    "    batch_size=BATCH_SIZE,\n",
    "    shuffle_seed=54,\n",
    "    shuffle=True,\n",
    "    num_epochs=1,\n",
    "    num_parallel_reads=100\n",
    ")\n",
    "dataset = tf.data.Dataset.zip((features, targets))"
   ]
  },
  {
   "cell_type": "code",
   "execution_count": 9,
   "metadata": {
    "id": "K2qG5oI1KTVG"
   },
   "outputs": [
    {
     "name": "stdout",
     "output_type": "stream",
     "text": [
      "............CPU times: user 26.1 s, sys: 1.15 s, total: 27.3 s\n",
      "Wall time: 25.8 s\n"
     ]
    }
   ],
   "source": [
    "%%time\n",
    "for i,batch in enumerate(dataset.take(20)):\n",
    "  print('.',end='')"
   ]
  },
  {
   "cell_type": "markdown",
   "metadata": {
    "id": "zn1SAzdpkn8G"
   },
   "source": [
    "### Split the training dataset into training and validation to be able to perform the hyperparameter tuning"
   ]
  },
  {
   "cell_type": "code",
   "execution_count": 7,
   "metadata": {
    "id": "129s2-c7b9Dq"
   },
   "outputs": [
    {
     "name": "stdout",
     "output_type": "stream",
     "text": [
      "Size of the datset :  23814\n"
     ]
    }
   ],
   "source": [
    "DATASET_SIZE = train_features_size\n",
    "print(\"Size of the datset : \" ,DATASET_SIZE)"
   ]
  },
  {
   "cell_type": "code",
   "execution_count": 8,
   "metadata": {
    "id": "9mvJ2s7VKsND"
   },
   "outputs": [
    {
     "name": "stdout",
     "output_type": "stream",
     "text": [
      "Full dataset size: 23814\n",
      "Train dataset size: 19051\n",
      "Val dataset size: 4762\n"
     ]
    }
   ],
   "source": [
    "train_size = int(0.8 * DATASET_SIZE)\n",
    "val_size = int(0.2 * DATASET_SIZE)\n",
    "\n",
    "train_dataset = dataset.take(train_size)\n",
    "val_dataset = dataset.skip(train_size)\n",
    "val_dataset = dataset.take(val_size)\n",
    "\n",
    "print(\"Full dataset size:\", DATASET_SIZE)\n",
    "print(\"Train dataset size:\", train_size)\n",
    "print(\"Val dataset size:\", val_size)"
   ]
  },
  {
   "cell_type": "markdown",
   "metadata": {
    "id": "ZJvAuSL9ZWkx"
   },
   "source": [
    "### Shuffing, Batching, Mapping data"
   ]
  },
  {
   "cell_type": "code",
   "execution_count": 41,
   "metadata": {
    "id": "H6Yd1xTokVYG"
   },
   "outputs": [],
   "source": [
    "#shuffle_train_dataset = train_dataset.cache().shuffle(buffer_size=train_features_size)"
   ]
  },
  {
   "cell_type": "code",
   "execution_count": 9,
   "metadata": {},
   "outputs": [],
   "source": [
    "def _preprocess_line(features, targets):\n",
    "    #Convert labels column to an array  \n",
    "    targets = tf.nest.flatten(targets)\n",
    "    return features, targets\n",
    "train_dataset = train_dataset.map(_preprocess_line)\n",
    "\n",
    "val_dataset = val_dataset.map(_preprocess_line)"
   ]
  },
  {
   "cell_type": "code",
   "execution_count": 10,
   "metadata": {},
   "outputs": [
    {
     "name": "stdout",
     "output_type": "stream",
     "text": [
      "First 5 features: ['cp_type', 'cp_time', 'cp_dose', 'g-0', 'g-1']\n",
      "A batch of cp_types: [b'ctl_vehicle' b'trt_cp' b'trt_cp' b'trt_cp' b'trt_cp' b'trt_cp'\n",
      " b'trt_cp' b'trt_cp' b'trt_cp' b'trt_cp' b'trt_cp' b'trt_cp' b'trt_cp'\n",
      " b'trt_cp' b'trt_cp' b'trt_cp' b'trt_cp' b'trt_cp' b'trt_cp' b'trt_cp'\n",
      " b'trt_cp' b'trt_cp' b'trt_cp' b'trt_cp' b'trt_cp' b'trt_cp' b'trt_cp'\n",
      " b'trt_cp' b'trt_cp' b'trt_cp' b'trt_cp' b'trt_cp']\n",
      "A batch of cp_times: [72 72 24 48 72 48 48 48 24 24 72 24 24 48 24 24 24 24 48 72 24 72 72 48\n",
      " 72 48 24 24 48 72 48 48]\n",
      "A batch of targets: [[0 0 0 ... 0 0 0]\n",
      " [0 0 0 ... 0 0 0]\n",
      " [0 0 0 ... 0 0 0]\n",
      " ...\n",
      " [0 0 0 ... 0 0 0]\n",
      " [0 0 0 ... 0 0 0]\n",
      " [0 0 0 ... 0 0 0]]\n"
     ]
    }
   ],
   "source": [
    "for feature_batch, label_batch in train_dataset.take(1):\n",
    "    print('First 5 features:', list(feature_batch.keys())[:5])\n",
    "    print('A batch of cp_types:', feature_batch['cp_type'].numpy())\n",
    "    print('A batch of cp_times:', feature_batch['cp_time'].numpy())\n",
    "    print('A batch of targets:', label_batch.numpy()) "
   ]
  },
  {
   "cell_type": "markdown",
   "metadata": {
    "id": "VUYhjXsZZwDz"
   },
   "source": [
    "# **Step 2**: Feature Engineering"
   ]
  },
  {
   "cell_type": "markdown",
   "metadata": {
    "id": "O3FB8bpsaKtu"
   },
   "source": [
    "### We use tensorflow\tfeature_columns or keras preprocessing\tlayers "
   ]
  },
  {
   "cell_type": "code",
   "execution_count": null,
   "metadata": {
    "id": "Yrl4IY67aDHX"
   },
   "outputs": [],
   "source": []
  },
  {
   "cell_type": "markdown",
   "metadata": {
    "id": "DuF31KlVaRS6"
   },
   "source": [
    "### Now we differentiate between numerical features and categorical features and apply the corresponding adequate feature engineering strategies to the right format."
   ]
  },
  {
   "cell_type": "markdown",
   "metadata": {
    "id": "MuyA2MIKaZJV"
   },
   "source": [
    "Normalization of numerical columns:"
   ]
  },
  {
   "cell_type": "code",
   "execution_count": 36,
   "metadata": {},
   "outputs": [],
   "source": [
    "def get_normalization_layer(name, dataset):\n",
    "  # Create a Normalization layer for our feature.\n",
    "  normalizer = preprocessing.Normalization()\n",
    "\n",
    "  # Prepare a Dataset that only yields our feature.\n",
    "  feature_ds = dataset.map(lambda x, y: x[name])\n",
    "\n",
    "  # Learn the statistics of the data.\n",
    "  normalizer.adapt(feature_ds)\n",
    "\n",
    "  return normalizer"
   ]
  },
  {
   "cell_type": "code",
   "execution_count": 39,
   "metadata": {
    "id": "lddjcFNMaY01"
   },
   "outputs": [],
   "source": [
    "all_inputs=[]\n",
    "# Here just normalisation of 2 features because crash with more \n",
    "# For crash test switch line below\n",
    "#for header in numerical_col_list:\n",
    "for header in ['g-0', 'g-1']:\n",
    "    numeric_col = tf.keras.Input(shape=(1,), name=header)\n",
    "    normalization_layer = get_normalization_layer(header, train_dataset)\n",
    "    encoded_numeric_col = normalization_layer(numeric_col)\n",
    "    all_inputs.append(numeric_col)\n",
    "    encoded_features.append(encoded_numeric_col)"
   ]
  },
  {
   "cell_type": "markdown",
   "metadata": {
    "id": "qxYJQxtLan_l"
   },
   "source": [
    "### Categorical encoding with vocabulary list"
   ]
  },
  {
   "cell_type": "code",
   "execution_count": 35,
   "metadata": {
    "id": "sZ-fVkcfar-J"
   },
   "outputs": [],
   "source": [
    "encoded_features = []\n",
    "CATEGORIES = {\n",
    "    'cp_type': ['ctrl_vehicle', 'cp_vehicle'],\n",
    "    'cp_time' : ['24', '48', '78'],\n",
    "    'cp_dose' : ['D1','D2']\n",
    "}\n",
    "\n",
    "\n",
    "categorical_columns = []\n",
    "for feature, vocab in CATEGORIES.items():\n",
    "    cat_col = tf.feature_column.categorical_column_with_vocabulary_list(\n",
    "        key=feature, vocabulary_list=vocab)\n",
    "    indicator_column = tf.feature_column.indicator_column(cat_col)\n",
    "    encoded_features.append(indicator_column)"
   ]
  },
  {
   "cell_type": "markdown",
   "metadata": {
    "id": "sSMtuIw6asM0"
   },
   "source": [
    "# **Step 3:** Baseline Modeling "
   ]
  },
  {
   "cell_type": "markdown",
   "metadata": {
    "id": "39BRjpLqa4po"
   },
   "source": [
    "Using either the Keras sequential API or the Keras function API, we should have at least one hidden layer"
   ]
  },
  {
   "cell_type": "code",
   "execution_count": null,
   "metadata": {
    "id": "H4HBACMaayDU"
   },
   "outputs": [],
   "source": []
  },
  {
   "cell_type": "markdown",
   "metadata": {
    "id": "PG9_EOpgbB5g"
   },
   "source": [
    "L2 regularization"
   ]
  },
  {
   "cell_type": "code",
   "execution_count": null,
   "metadata": {
    "id": "Oy5AJNc9bFBQ"
   },
   "outputs": [],
   "source": []
  },
  {
   "cell_type": "markdown",
   "metadata": {
    "id": "t3CSNUyJbFVd"
   },
   "source": [
    "Dropout regularization"
   ]
  },
  {
   "cell_type": "code",
   "execution_count": null,
   "metadata": {
    "id": "zI1_XzuVbHUO"
   },
   "outputs": [],
   "source": []
  },
  {
   "cell_type": "markdown",
   "metadata": {
    "id": "w5W8IetMbGuG"
   },
   "source": [
    "Batch Normalization"
   ]
  },
  {
   "cell_type": "code",
   "execution_count": null,
   "metadata": {
    "id": "vn0RNmICbICM"
   },
   "outputs": [],
   "source": []
  },
  {
   "cell_type": "markdown",
   "metadata": {
    "id": "EdvPMwftbLlF"
   },
   "source": [
    "Weights Initialization"
   ]
  },
  {
   "cell_type": "code",
   "execution_count": null,
   "metadata": {
    "id": "rzz79AQBbNm6"
   },
   "outputs": [],
   "source": []
  },
  {
   "cell_type": "markdown",
   "metadata": {
    "id": "IDCwpYGtbWXH"
   },
   "source": [
    "#**Step 4:** Model Variance & Bias Analysis"
   ]
  },
  {
   "cell_type": "markdown",
   "metadata": {
    "id": "JP5Zf6lsbZII"
   },
   "source": [
    "Plot the training and validation loss of your model as a function of the number of epochs"
   ]
  },
  {
   "cell_type": "code",
   "execution_count": null,
   "metadata": {
    "id": "5KlsqXPubXNx"
   },
   "outputs": [],
   "source": []
  },
  {
   "cell_type": "markdown",
   "metadata": {
    "id": "VWj4Opgbbbiz"
   },
   "source": [
    "Plot the learning curve"
   ]
  },
  {
   "cell_type": "code",
   "execution_count": null,
   "metadata": {
    "id": "VBt2LGhebkVw"
   },
   "outputs": [],
   "source": []
  },
  {
   "cell_type": "markdown",
   "metadata": {
    "id": "08PCoGm5bktt"
   },
   "source": [
    "Diagnose Variance & Bias and propose a way to solve high variance or high bias if it’s being detected"
   ]
  },
  {
   "cell_type": "code",
   "execution_count": null,
   "metadata": {
    "id": "CP04Is88bnyk"
   },
   "outputs": [],
   "source": []
  },
  {
   "cell_type": "markdown",
   "metadata": {
    "id": "pn0PWHC8boIW"
   },
   "source": [
    "#**Steps 5:** Hyperparameter tuning with Keras Tuner "
   ]
  },
  {
   "cell_type": "code",
   "execution_count": null,
   "metadata": {
    "id": "deqDKzrLbyTX"
   },
   "outputs": [],
   "source": []
  }
 ],
 "metadata": {
  "colab": {
   "collapsed_sections": [
    "VUYhjXsZZwDz",
    "sSMtuIw6asM0",
    "IDCwpYGtbWXH",
    "pn0PWHC8boIW"
   ],
   "name": "MOA.ipynb",
   "provenance": []
  },
  "kernelspec": {
   "display_name": "Python 3",
   "language": "python",
   "name": "python3"
  },
  "language_info": {
   "codemirror_mode": {
    "name": "ipython",
    "version": 3
   },
   "file_extension": ".py",
   "mimetype": "text/x-python",
   "name": "python",
   "nbconvert_exporter": "python",
   "pygments_lexer": "ipython3",
   "version": "3.8.5"
  }
 },
 "nbformat": 4,
 "nbformat_minor": 4
}
