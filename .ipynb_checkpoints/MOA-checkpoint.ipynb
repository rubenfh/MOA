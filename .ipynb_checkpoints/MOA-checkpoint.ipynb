{
 "cells": [
  {
   "cell_type": "markdown",
   "metadata": {
    "id": "pNwOy7p6ZqFU"
   },
   "source": [
    "**Introduction**\n",
    "\n",
    "In this notebook, we will be predicting multiple targets of the Mechanism of Action (MoA) response(s) of different samples (sig_id), given various inputs such as gene expression data and cell viability data.\n"
   ]
  },
  {
   "cell_type": "markdown",
   "metadata": {},
   "source": [
    "## Import Library"
   ]
  },
  {
   "cell_type": "code",
   "execution_count": 19,
   "metadata": {},
   "outputs": [],
   "source": [
    "# ML library\n",
    "import tensorflow as tf\n",
    "from tensorflow.keras import layers\n",
    "from tensorflow.keras.layers.experimental import preprocessing\n",
    "\n",
    "\n",
    "from sklearn.model_selection import train_test_split\n",
    "from sklearn.utils import shuffle\n",
    "from sklearn.model_selection import train_test_split\n",
    "\n",
    "# Data manipulation library\n",
    "import matplotlib.pyplot as plt\n",
    "import pandas as pd\n",
    "import numpy as np\n",
    "# Make numpy values easier to read.\n",
    "np.set_printoptions(precision=3, suppress=True)\n"
   ]
  },
  {
   "cell_type": "markdown",
   "metadata": {
    "id": "aw3Xf8P1aD5A"
   },
   "source": [
    "# **Step 1:** Reading data using TF.DATA\n"
   ]
  },
  {
   "cell_type": "code",
   "execution_count": 5,
   "metadata": {
    "id": "PCa_umGDZJzb"
   },
   "outputs": [],
   "source": [
    "TRAIN_DATA_URL = \"https://drive.google.com/file/d/1cWd2o55ed-pf-Ia9umqJGTOlCFydwgyf/view?usp=sharing\"\n",
    "#Use Data Folder call : lish-moa who contains all csv\n",
    "TRAIN_FEATURES_PATH =  \"lish-moa/train_features.csv\"\n",
    "TRAIN_LABELS_PATH   =  \"lish-moa/train_targets_scored.csv\""
   ]
  },
  {
   "cell_type": "code",
   "execution_count": 6,
   "metadata": {},
   "outputs": [],
   "source": [
    "## TRAIN FEATURES \n",
    "#Read just one of features dataset and make a list of columns name (we remove sig_id with index_col=0)\n",
    "train_features_header_list  = pd.read_csv(TRAIN_FEATURES_PATH, \n",
    "                                          index_col=0,\n",
    "                                          nrows=1).columns.tolist()\n",
    "#Just the 3 first colunm are categorical, all of the rest are nuerical\n",
    "#We create 3 list with the features names (one categorical, one numerical)\n",
    "numerical_col_list   = train_features_header_list[3:]\n",
    "categorical_col_list = train_features_header_list[0:3]\n",
    "\n",
    "## TRAIN LABELS\n",
    "#Read just one of labels dataset and make a list of columns name (we remove sig_id with index_col=0)\n",
    "train_labels_header_list    = pd.read_csv(TRAIN_LABELS_PATH, \n",
    "                                          index_col=0,\n",
    "                                          nrows=1).columns.tolist()\n",
    "# Get the size of train dataset\n",
    "train_features_size = len(pd.read_csv(TRAIN_FEATURES_PATH,usecols=[numerical_col_list[0]]))\n",
    "train_label_size = len(pd.read_csv(TRAIN_LABELS_PATH,usecols=[train_labels_header_list[0]]))"
   ]
  },
  {
   "cell_type": "code",
   "execution_count": 7,
   "metadata": {},
   "outputs": [
    {
     "name": "stdout",
     "output_type": "stream",
     "text": [
      "NUMBER OF FEATURES ;  875\n",
      "NUMBER OF TARGET :  206\n",
      "TRAIN DATASET SIZE (features) :  23814\n",
      "TRAIN DATASET SIZE (labels) :  23814\n"
     ]
    }
   ],
   "source": [
    "print(\"NUMBER OF FEATURES ; \", len(train_features_header_list))\n",
    "print(\"NUMBER OF TARGET : \", len(train_labels_header_list))\n",
    "\n",
    "print(\"TRAIN DATASET SIZE (features) : \", train_features_size)\n",
    "print(\"TRAIN DATASET SIZE (labels) : \", train_label_size)"
   ]
  },
  {
   "cell_type": "code",
   "execution_count": 8,
   "metadata": {
    "id": "haPjCN6aKHKB"
   },
   "outputs": [],
   "source": [
    "# We define the size of each batch at 2048\n",
    "BATCH_SIZE=2048\n",
    "# Load train features dataset with shuffling (seed = 54), batching (size = 2048)\n",
    "features = tf.data.experimental.make_csv_dataset(\n",
    "    file_pattern = TRAIN_FEATURES_PATH,\n",
    "    select_columns=train_features_header_list,\n",
    "    header=True,\n",
    "    batch_size=BATCH_SIZE,\n",
    "    shuffle_seed=54,\n",
    "    shuffle=True,\n",
    "    num_epochs=1,\n",
    "    num_parallel_reads=100\n",
    ")\n",
    "targets = tf.data.experimental.make_csv_dataset(\n",
    "    file_pattern=TRAIN_LABELS_PATH,\n",
    "    select_columns=train_labels_header_list,\n",
    "    header=True,\n",
    "    batch_size=BATCH_SIZE,\n",
    "    shuffle_seed=54,\n",
    "    shuffle=True,\n",
    "    num_epochs=1,\n",
    "    num_parallel_reads=100\n",
    ")\n",
    "dataset = tf.data.Dataset.zip((features, targets))"
   ]
  },
  {
   "cell_type": "code",
   "execution_count": 9,
   "metadata": {
    "id": "K2qG5oI1KTVG"
   },
   "outputs": [
    {
     "name": "stdout",
     "output_type": "stream",
     "text": [
      "............CPU times: user 26.3 s, sys: 1.79 s, total: 28.1 s\n",
      "Wall time: 21.6 s\n"
     ]
    }
   ],
   "source": [
    "%%time\n",
    "for i,batch in enumerate(dataset.take(20)):\n",
    "  print('.',end='')"
   ]
  },
  {
   "cell_type": "markdown",
   "metadata": {
    "id": "zn1SAzdpkn8G"
   },
   "source": [
    "### Split the training dataset into training and validation to be able to perform the hyperparameter tuning"
   ]
  },
  {
   "cell_type": "code",
   "execution_count": 10,
   "metadata": {
    "id": "129s2-c7b9Dq"
   },
   "outputs": [
    {
     "name": "stdout",
     "output_type": "stream",
     "text": [
      "Size of the datset :  23814\n"
     ]
    }
   ],
   "source": [
    "DATASET_SIZE = train_features_size\n",
    "print(\"Size of the datset : \" ,DATASET_SIZE)"
   ]
  },
  {
   "cell_type": "code",
   "execution_count": 11,
   "metadata": {
    "id": "9mvJ2s7VKsND"
   },
   "outputs": [
    {
     "name": "stdout",
     "output_type": "stream",
     "text": [
      "Full dataset size: 23814\n",
      "Train dataset size: 19051\n",
      "Val dataset size: 4762\n"
     ]
    }
   ],
   "source": [
    "train_size = int(0.8 * DATASET_SIZE)\n",
    "val_size = int(0.2 * DATASET_SIZE)\n",
    "\n",
    "train_dataset = dataset.take(train_size)\n",
    "val_dataset = dataset.skip(train_size)\n",
    "val_dataset = dataset.take(val_size)\n",
    "\n",
    "print(\"Full dataset size:\", DATASET_SIZE)\n",
    "print(\"Train dataset size:\", train_size)\n",
    "print(\"Val dataset size:\", val_size)"
   ]
  },
  {
   "cell_type": "markdown",
   "metadata": {
    "id": "ZJvAuSL9ZWkx"
   },
   "source": [
    "### Shuffing, Batching, Mapping data"
   ]
  },
  {
   "cell_type": "code",
   "execution_count": 12,
   "metadata": {
    "id": "H6Yd1xTokVYG"
   },
   "outputs": [],
   "source": [
    "#shuffle_train_dataset = train_dataset.cache().shuffle(buffer_size=train_features_size)"
   ]
  },
  {
   "cell_type": "code",
   "execution_count": 13,
   "metadata": {},
   "outputs": [],
   "source": [
    "def _preprocess_line(features, targets):\n",
    "    #Convert labels column to an array  \n",
    "    targets = tf.nest.flatten(targets)\n",
    "    return features, targets\n",
    "train_dataset = train_dataset.map(_preprocess_line)\n",
    "\n",
    "val_dataset = val_dataset.map(_preprocess_line)"
   ]
  },
  {
   "cell_type": "code",
   "execution_count": 14,
   "metadata": {},
   "outputs": [
    {
     "name": "stdout",
     "output_type": "stream",
     "text": [
      "First 5 features: ['cp_type', 'cp_time', 'cp_dose', 'g-0', 'g-1']\n",
      "A batch of cp_types: [b'trt_cp' b'trt_cp' b'trt_cp' ... b'trt_cp' b'trt_cp' b'trt_cp']\n",
      "A batch of cp_times: [72 72 48 ... 24 48 48]\n",
      "A batch of targets: [[0 0 0 ... 0 0 0]\n",
      " [0 0 0 ... 0 0 0]\n",
      " [0 0 0 ... 0 0 0]\n",
      " ...\n",
      " [0 0 0 ... 0 0 0]\n",
      " [0 0 0 ... 0 0 0]\n",
      " [0 0 0 ... 0 0 0]]\n"
     ]
    }
   ],
   "source": [
    "for feature_batch, label_batch in train_dataset.take(1):\n",
    "    print('First 5 features:', list(feature_batch.keys())[:5])\n",
    "    print('A batch of cp_types:', feature_batch['cp_type'].numpy())\n",
    "    print('A batch of cp_times:', feature_batch['cp_time'].numpy())\n",
    "    print('A batch of targets:', label_batch.numpy()) "
   ]
  },
  {
   "cell_type": "markdown",
   "metadata": {
    "id": "VUYhjXsZZwDz"
   },
   "source": [
    "# **Step 2**: Feature Engineering"
   ]
  },
  {
   "cell_type": "markdown",
   "metadata": {
    "id": "O3FB8bpsaKtu"
   },
   "source": [
    "### We use tensorflow\tfeature_columns or keras preprocessing\tlayers "
   ]
  },
  {
   "cell_type": "code",
   "execution_count": null,
   "metadata": {
    "id": "Yrl4IY67aDHX"
   },
   "outputs": [],
   "source": []
  },
  {
   "cell_type": "markdown",
   "metadata": {
    "id": "DuF31KlVaRS6"
   },
   "source": [
    "### Now we differentiate between numerical features and categorical features and apply the corresponding adequate feature engineering strategies to the right format."
   ]
  },
  {
   "cell_type": "markdown",
   "metadata": {
    "id": "MuyA2MIKaZJV"
   },
   "source": [
    "Normalization of numerical columns:"
   ]
  },
  {
   "cell_type": "code",
   "execution_count": 16,
   "metadata": {},
   "outputs": [],
   "source": [
    "def get_normalization_layer(name, dataset):\n",
    "    # Create a Normalization layer for our feature.\n",
    "    normalizer = preprocessing.Normalization()\n",
    "\n",
    "    # Prepare a Dataset that only yields our feature.\n",
    "    feature_ds = dataset.map(lambda x, y: x[name])\n",
    "\n",
    "    # Learn the statistics of the data.\n",
    "    normalizer.adapt(feature_ds)\n",
    "\n",
    "    \n",
    "    return normalizer"
   ]
  },
  {
   "cell_type": "markdown",
   "metadata": {
    "id": "qxYJQxtLan_l"
   },
   "source": [
    "### Categorical encoding with vocabulary list"
   ]
  },
  {
   "cell_type": "code",
   "execution_count": 17,
   "metadata": {
    "id": "sZ-fVkcfar-J"
   },
   "outputs": [],
   "source": [
    "encoded_features = []\n",
    "CATEGORIES = {\n",
    "    'cp_type': ['ctrl_vehicle', 'cp_vehicle'],\n",
    "    'cp_time' : ['24', '48', '78'],\n",
    "    'cp_dose' : ['D1','D2']\n",
    "}\n",
    "\n",
    "\n",
    "categorical_columns = []\n",
    "for feature, vocab in CATEGORIES.items():\n",
    "    cat_col = tf.feature_column.categorical_column_with_vocabulary_list(\n",
    "        key=feature, vocabulary_list=vocab)\n",
    "    indicator_column = tf.feature_column.indicator_column(cat_col)\n",
    "    encoded_features.append(indicator_column)"
   ]
  },
  {
   "cell_type": "code",
   "execution_count": 18,
   "metadata": {
    "id": "lddjcFNMaY01"
   },
   "outputs": [
    {
     "name": "stdout",
     "output_type": "stream",
     "text": [
      "g-1\n",
      "g-1\n",
      "g-1\n",
      "g-1\n",
      "g-1\n",
      "g-1\n"
     ]
    },
    {
     "ename": "KeyboardInterrupt",
     "evalue": "",
     "output_type": "error",
     "traceback": [
      "\u001b[0;31m---------------------------------------------------------------------------\u001b[0m",
      "\u001b[0;31mKeyboardInterrupt\u001b[0m                         Traceback (most recent call last)",
      "\u001b[0;32m<ipython-input-18-36628810552f>\u001b[0m in \u001b[0;36m<module>\u001b[0;34m\u001b[0m\n\u001b[1;32m      6\u001b[0m     \u001b[0;32mfor\u001b[0m \u001b[0mheader\u001b[0m \u001b[0;32min\u001b[0m \u001b[0;34m[\u001b[0m\u001b[0;34m'g-0'\u001b[0m\u001b[0;34m,\u001b[0m \u001b[0;34m'g-1'\u001b[0m\u001b[0;34m]\u001b[0m\u001b[0;34m:\u001b[0m\u001b[0;34m\u001b[0m\u001b[0;34m\u001b[0m\u001b[0m\n\u001b[1;32m      7\u001b[0m         \u001b[0mnumeric_col\u001b[0m \u001b[0;34m=\u001b[0m \u001b[0mtf\u001b[0m\u001b[0;34m.\u001b[0m\u001b[0mkeras\u001b[0m\u001b[0;34m.\u001b[0m\u001b[0mInput\u001b[0m\u001b[0;34m(\u001b[0m\u001b[0mshape\u001b[0m\u001b[0;34m=\u001b[0m\u001b[0;34m(\u001b[0m\u001b[0;36m1\u001b[0m\u001b[0;34m,\u001b[0m\u001b[0;34m)\u001b[0m\u001b[0;34m,\u001b[0m \u001b[0mname\u001b[0m\u001b[0;34m=\u001b[0m\u001b[0mheader\u001b[0m\u001b[0;34m)\u001b[0m\u001b[0;34m\u001b[0m\u001b[0;34m\u001b[0m\u001b[0m\n\u001b[0;32m----> 8\u001b[0;31m         \u001b[0mnormalization_layer\u001b[0m \u001b[0;34m=\u001b[0m \u001b[0mget_normalization_layer\u001b[0m\u001b[0;34m(\u001b[0m\u001b[0mheader\u001b[0m\u001b[0;34m,\u001b[0m \u001b[0mtrain_dataset\u001b[0m\u001b[0;34m)\u001b[0m\u001b[0;34m\u001b[0m\u001b[0;34m\u001b[0m\u001b[0m\n\u001b[0m\u001b[1;32m      9\u001b[0m         \u001b[0mencoded_numeric_col\u001b[0m \u001b[0;34m=\u001b[0m \u001b[0mnormalization_layer\u001b[0m\u001b[0;34m(\u001b[0m\u001b[0mnumeric_col\u001b[0m\u001b[0;34m)\u001b[0m\u001b[0;34m\u001b[0m\u001b[0;34m\u001b[0m\u001b[0m\n\u001b[1;32m     10\u001b[0m         \u001b[0mall_inputs\u001b[0m\u001b[0;34m.\u001b[0m\u001b[0mappend\u001b[0m\u001b[0;34m(\u001b[0m\u001b[0mnumeric_col\u001b[0m\u001b[0;34m)\u001b[0m\u001b[0;34m\u001b[0m\u001b[0;34m\u001b[0m\u001b[0m\n",
      "\u001b[0;32m<ipython-input-16-ad0ad9033e91>\u001b[0m in \u001b[0;36mget_normalization_layer\u001b[0;34m(name, dataset)\u001b[0m\n\u001b[1;32m      7\u001b[0m \u001b[0;34m\u001b[0m\u001b[0m\n\u001b[1;32m      8\u001b[0m     \u001b[0;31m# Learn the statistics of the data.\u001b[0m\u001b[0;34m\u001b[0m\u001b[0;34m\u001b[0m\u001b[0;34m\u001b[0m\u001b[0m\n\u001b[0;32m----> 9\u001b[0;31m     \u001b[0mnormalizer\u001b[0m\u001b[0;34m.\u001b[0m\u001b[0madapt\u001b[0m\u001b[0;34m(\u001b[0m\u001b[0mfeature_ds\u001b[0m\u001b[0;34m)\u001b[0m\u001b[0;34m\u001b[0m\u001b[0;34m\u001b[0m\u001b[0m\n\u001b[0m\u001b[1;32m     10\u001b[0m \u001b[0;34m\u001b[0m\u001b[0m\n\u001b[1;32m     11\u001b[0m \u001b[0;34m\u001b[0m\u001b[0m\n",
      "\u001b[0;32m~/opt/anaconda3/lib/python3.8/site-packages/tensorflow/python/keras/engine/base_preprocessing_layer.py\u001b[0m in \u001b[0;36madapt\u001b[0;34m(self, data, reset_state)\u001b[0m\n\u001b[1;32m    206\u001b[0m       \u001b[0;32mwhile\u001b[0m \u001b[0;32mTrue\u001b[0m\u001b[0;34m:\u001b[0m\u001b[0;34m\u001b[0m\u001b[0;34m\u001b[0m\u001b[0m\n\u001b[1;32m    207\u001b[0m         \u001b[0maccumulator\u001b[0m \u001b[0;34m=\u001b[0m \u001b[0mself\u001b[0m\u001b[0;34m.\u001b[0m\u001b[0m_combiner\u001b[0m\u001b[0;34m.\u001b[0m\u001b[0mcompute\u001b[0m\u001b[0;34m(\u001b[0m\u001b[0mdata_element\u001b[0m\u001b[0;34m,\u001b[0m \u001b[0maccumulator\u001b[0m\u001b[0;34m)\u001b[0m\u001b[0;34m\u001b[0m\u001b[0;34m\u001b[0m\u001b[0m\n\u001b[0;32m--> 208\u001b[0;31m         \u001b[0mdata_element\u001b[0m \u001b[0;34m=\u001b[0m \u001b[0mnext_data\u001b[0m\u001b[0;34m(\u001b[0m\u001b[0;34m)\u001b[0m\u001b[0;34m\u001b[0m\u001b[0;34m\u001b[0m\u001b[0m\n\u001b[0m\u001b[1;32m    209\u001b[0m     \u001b[0;31m# Note that this belongs to the outer indentation of 'try' - we need to\u001b[0m\u001b[0;34m\u001b[0m\u001b[0;34m\u001b[0m\u001b[0;34m\u001b[0m\u001b[0m\n\u001b[1;32m    210\u001b[0m     \u001b[0;31m# catch exceptions resulting from the first 'next_data()' invocation as\u001b[0m\u001b[0;34m\u001b[0m\u001b[0;34m\u001b[0m\u001b[0;34m\u001b[0m\u001b[0m\n",
      "\u001b[0;32m~/opt/anaconda3/lib/python3.8/site-packages/tensorflow/python/data/ops/iterator_ops.py\u001b[0m in \u001b[0;36mget_next\u001b[0;34m(self)\u001b[0m\n\u001b[1;32m    823\u001b[0m \u001b[0;34m\u001b[0m\u001b[0m\n\u001b[1;32m    824\u001b[0m   \u001b[0;32mdef\u001b[0m \u001b[0mget_next\u001b[0m\u001b[0;34m(\u001b[0m\u001b[0mself\u001b[0m\u001b[0;34m)\u001b[0m\u001b[0;34m:\u001b[0m\u001b[0;34m\u001b[0m\u001b[0;34m\u001b[0m\u001b[0m\n\u001b[0;32m--> 825\u001b[0;31m     \u001b[0;32mreturn\u001b[0m \u001b[0mself\u001b[0m\u001b[0;34m.\u001b[0m\u001b[0m_next_internal\u001b[0m\u001b[0;34m(\u001b[0m\u001b[0;34m)\u001b[0m\u001b[0;34m\u001b[0m\u001b[0;34m\u001b[0m\u001b[0m\n\u001b[0m\u001b[1;32m    826\u001b[0m \u001b[0;34m\u001b[0m\u001b[0m\n\u001b[1;32m    827\u001b[0m   \u001b[0;32mdef\u001b[0m \u001b[0mget_next_as_optional\u001b[0m\u001b[0;34m(\u001b[0m\u001b[0mself\u001b[0m\u001b[0;34m)\u001b[0m\u001b[0;34m:\u001b[0m\u001b[0;34m\u001b[0m\u001b[0;34m\u001b[0m\u001b[0m\n",
      "\u001b[0;32m~/opt/anaconda3/lib/python3.8/site-packages/tensorflow/python/data/ops/iterator_ops.py\u001b[0m in \u001b[0;36m_next_internal\u001b[0;34m(self)\u001b[0m\n\u001b[1;32m    753\u001b[0m         \u001b[0;31m# and instead mimic ops placement in graphs: Operations on resource\u001b[0m\u001b[0;34m\u001b[0m\u001b[0;34m\u001b[0m\u001b[0;34m\u001b[0m\u001b[0m\n\u001b[1;32m    754\u001b[0m         \u001b[0;31m# handles execute on the same device as where the resource is placed.\u001b[0m\u001b[0;34m\u001b[0m\u001b[0;34m\u001b[0m\u001b[0;34m\u001b[0m\u001b[0m\n\u001b[0;32m--> 755\u001b[0;31m         ret = gen_dataset_ops.iterator_get_next(\n\u001b[0m\u001b[1;32m    756\u001b[0m             \u001b[0mself\u001b[0m\u001b[0;34m.\u001b[0m\u001b[0m_iterator_resource\u001b[0m\u001b[0;34m,\u001b[0m\u001b[0;34m\u001b[0m\u001b[0;34m\u001b[0m\u001b[0m\n\u001b[1;32m    757\u001b[0m             \u001b[0moutput_types\u001b[0m\u001b[0;34m=\u001b[0m\u001b[0mself\u001b[0m\u001b[0;34m.\u001b[0m\u001b[0m_flat_output_types\u001b[0m\u001b[0;34m,\u001b[0m\u001b[0;34m\u001b[0m\u001b[0;34m\u001b[0m\u001b[0m\n",
      "\u001b[0;32m~/opt/anaconda3/lib/python3.8/site-packages/tensorflow/python/ops/gen_dataset_ops.py\u001b[0m in \u001b[0;36miterator_get_next\u001b[0;34m(iterator, output_types, output_shapes, name)\u001b[0m\n\u001b[1;32m   2602\u001b[0m   \u001b[0;32mif\u001b[0m \u001b[0mtld\u001b[0m\u001b[0;34m.\u001b[0m\u001b[0mis_eager\u001b[0m\u001b[0;34m:\u001b[0m\u001b[0;34m\u001b[0m\u001b[0;34m\u001b[0m\u001b[0m\n\u001b[1;32m   2603\u001b[0m     \u001b[0;32mtry\u001b[0m\u001b[0;34m:\u001b[0m\u001b[0;34m\u001b[0m\u001b[0;34m\u001b[0m\u001b[0m\n\u001b[0;32m-> 2604\u001b[0;31m       _result = pywrap_tfe.TFE_Py_FastPathExecute(\n\u001b[0m\u001b[1;32m   2605\u001b[0m         \u001b[0m_ctx\u001b[0m\u001b[0;34m.\u001b[0m\u001b[0m_context_handle\u001b[0m\u001b[0;34m,\u001b[0m \u001b[0mtld\u001b[0m\u001b[0;34m.\u001b[0m\u001b[0mdevice_name\u001b[0m\u001b[0;34m,\u001b[0m \u001b[0;34m\"IteratorGetNext\"\u001b[0m\u001b[0;34m,\u001b[0m \u001b[0mname\u001b[0m\u001b[0;34m,\u001b[0m\u001b[0;34m\u001b[0m\u001b[0;34m\u001b[0m\u001b[0m\n\u001b[1;32m   2606\u001b[0m         \u001b[0mtld\u001b[0m\u001b[0;34m.\u001b[0m\u001b[0mop_callbacks\u001b[0m\u001b[0;34m,\u001b[0m \u001b[0miterator\u001b[0m\u001b[0;34m,\u001b[0m \u001b[0;34m\"output_types\"\u001b[0m\u001b[0;34m,\u001b[0m \u001b[0moutput_types\u001b[0m\u001b[0;34m,\u001b[0m\u001b[0;34m\u001b[0m\u001b[0;34m\u001b[0m\u001b[0m\n",
      "\u001b[0;31mKeyboardInterrupt\u001b[0m: "
     ]
    }
   ],
   "source": [
    "all_inputs=[]\n",
    "# Here just normalisation of 2 features because crash with more \n",
    "# For crash test switch line below\n",
    "for header in numerical_col_list:\n",
    "    \n",
    "    for header in ['g-0', 'g-1']:\n",
    "        numeric_col = tf.keras.Input(shape=(1,), name=header)\n",
    "        normalization_layer = get_normalization_layer(header, train_dataset)\n",
    "        encoded_numeric_col = normalization_layer(numeric_col)\n",
    "        all_inputs.append(numeric_col)\n",
    "        encoded_features.append(encoded_numeric_col)\n",
    "    print(header)"
   ]
  },
  {
   "cell_type": "markdown",
   "metadata": {
    "id": "sSMtuIw6asM0"
   },
   "source": [
    "# **Step 3:** Baseline Modeling "
   ]
  },
  {
   "cell_type": "markdown",
   "metadata": {
    "id": "39BRjpLqa4po"
   },
   "source": [
    "Using either the Keras sequential API or the Keras function API, we should have at least one hidden layer"
   ]
  },
  {
   "cell_type": "code",
   "execution_count": null,
   "metadata": {
    "id": "H4HBACMaayDU"
   },
   "outputs": [],
   "source": [
    "model = tf.keras.Sequential()\n",
    "model.add(tf.keras.layers.Dense(8))\n",
    "model.add(tf.keras.layers.Dense(1))\n",
    "model.compile(optimizer='adam', loss=tf.keras.losses.BinaryCrossentropy())\n",
    "# This builds the model for the first time:\n",
    "model.fit(x, y, batch_size=32, epochs=10)"
   ]
  },
  {
   "cell_type": "markdown",
   "metadata": {
    "id": "PG9_EOpgbB5g"
   },
   "source": [
    "L2 regularization"
   ]
  },
  {
   "cell_type": "code",
   "execution_count": null,
   "metadata": {
    "id": "Oy5AJNc9bFBQ"
   },
   "outputs": [],
   "source": []
  },
  {
   "cell_type": "markdown",
   "metadata": {
    "id": "t3CSNUyJbFVd"
   },
   "source": [
    "Dropout regularization"
   ]
  },
  {
   "cell_type": "code",
   "execution_count": null,
   "metadata": {
    "id": "zI1_XzuVbHUO"
   },
   "outputs": [],
   "source": []
  },
  {
   "cell_type": "markdown",
   "metadata": {
    "id": "w5W8IetMbGuG"
   },
   "source": [
    "Batch Normalization"
   ]
  },
  {
   "cell_type": "code",
   "execution_count": null,
   "metadata": {
    "id": "vn0RNmICbICM"
   },
   "outputs": [],
   "source": []
  },
  {
   "cell_type": "markdown",
   "metadata": {
    "id": "EdvPMwftbLlF"
   },
   "source": [
    "Weights Initialization"
   ]
  },
  {
   "cell_type": "code",
   "execution_count": null,
   "metadata": {
    "id": "rzz79AQBbNm6"
   },
   "outputs": [],
   "source": []
  },
  {
   "cell_type": "markdown",
   "metadata": {
    "id": "IDCwpYGtbWXH"
   },
   "source": [
    "# **Step 4:** Model Variance & Bias Analysis"
   ]
  },
  {
   "cell_type": "markdown",
   "metadata": {
    "id": "JP5Zf6lsbZII"
   },
   "source": [
    "Plot the training and validation loss of your model as a function of the number of epochs"
   ]
  },
  {
   "cell_type": "code",
   "execution_count": null,
   "metadata": {
    "id": "5KlsqXPubXNx"
   },
   "outputs": [],
   "source": []
  },
  {
   "cell_type": "markdown",
   "metadata": {
    "id": "VWj4Opgbbbiz"
   },
   "source": [
    "Plot the learning curve"
   ]
  },
  {
   "cell_type": "code",
   "execution_count": null,
   "metadata": {
    "id": "VBt2LGhebkVw"
   },
   "outputs": [],
   "source": []
  },
  {
   "cell_type": "markdown",
   "metadata": {
    "id": "08PCoGm5bktt"
   },
   "source": [
    "Diagnose Variance & Bias and propose a way to solve high variance or high bias if it’s being detected"
   ]
  },
  {
   "cell_type": "code",
   "execution_count": null,
   "metadata": {
    "id": "CP04Is88bnyk"
   },
   "outputs": [],
   "source": []
  },
  {
   "cell_type": "markdown",
   "metadata": {
    "id": "pn0PWHC8boIW"
   },
   "source": [
    "# **Steps 5:** Hyperparameter tuning with Keras Tuner "
   ]
  },
  {
   "cell_type": "code",
   "execution_count": null,
   "metadata": {
    "id": "deqDKzrLbyTX"
   },
   "outputs": [],
   "source": []
  }
 ],
 "metadata": {
  "colab": {
   "collapsed_sections": [
    "VUYhjXsZZwDz",
    "sSMtuIw6asM0",
    "IDCwpYGtbWXH",
    "pn0PWHC8boIW"
   ],
   "name": "MOA.ipynb",
   "provenance": []
  },
  "kernelspec": {
   "display_name": "Python 3",
   "language": "python",
   "name": "python3"
  },
  "language_info": {
   "codemirror_mode": {
    "name": "ipython",
    "version": 3
   },
   "file_extension": ".py",
   "mimetype": "text/x-python",
   "name": "python",
   "nbconvert_exporter": "python",
   "pygments_lexer": "ipython3",
   "version": "3.8.3"
  }
 },
 "nbformat": 4,
 "nbformat_minor": 4
}
