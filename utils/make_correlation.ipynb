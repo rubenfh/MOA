{
 "cells": [
  {
   "cell_type": "code",
   "execution_count": 19,
   "metadata": {},
   "outputs": [
    {
     "ename": "FileNotFoundError",
     "evalue": "[Errno 2] No such file or directory: 'utils'",
     "output_type": "error",
     "traceback": [
      "\u001b[0;31m---------------------------------------------------------------------------\u001b[0m",
      "\u001b[0;31mFileNotFoundError\u001b[0m                         Traceback (most recent call last)",
      "\u001b[0;32m<ipython-input-19-be12e9536909>\u001b[0m in \u001b[0;36m<module>\u001b[0;34m\u001b[0m\n\u001b[1;32m      8\u001b[0m \u001b[0;32mfrom\u001b[0m \u001b[0mplotly\u001b[0m\u001b[0;34m.\u001b[0m\u001b[0msubplots\u001b[0m \u001b[0;32mimport\u001b[0m \u001b[0mmake_subplots\u001b[0m\u001b[0;34m\u001b[0m\u001b[0;34m\u001b[0m\u001b[0m\n\u001b[1;32m      9\u001b[0m \u001b[0;32mimport\u001b[0m \u001b[0mmatplotlib\u001b[0m\u001b[0;34m.\u001b[0m\u001b[0mpyplot\u001b[0m \u001b[0;32mas\u001b[0m \u001b[0mplt\u001b[0m\u001b[0;34m\u001b[0m\u001b[0;34m\u001b[0m\u001b[0m\n\u001b[0;32m---> 10\u001b[0;31m \u001b[0mos\u001b[0m\u001b[0;34m.\u001b[0m\u001b[0mchdir\u001b[0m\u001b[0;34m(\u001b[0m\u001b[0;34m\"utils\"\u001b[0m\u001b[0;34m)\u001b[0m\u001b[0;34m\u001b[0m\u001b[0;34m\u001b[0m\u001b[0m\n\u001b[0m",
      "\u001b[0;31mFileNotFoundError\u001b[0m: [Errno 2] No such file or directory: 'utils'"
     ]
    }
   ],
   "source": [
    "# From https://www.kaggle.com/isaienkov/mechanisms-of-action-moa-prediction-eda\n",
    "import pandas as pd\n",
    "import os\n",
    "import pandas as pd\n",
    "import random\n",
    "import plotly.express as px\n",
    "import plotly.graph_objects as go\n",
    "from plotly.subplots import make_subplots\n",
    "import matplotlib.pyplot as plt"
   ]
  },
  {
   "cell_type": "code",
   "execution_count": 3,
   "metadata": {},
   "outputs": [],
   "source": [
    "train = pd.read_csv('lish-moa/train_features.csv')\n",
    "test = pd.read_csv('lish-moa/test_features.csv')\n",
    "\n",
    "train['dataset'] = 'train'\n",
    "test['dataset'] = 'test'\n",
    "\n",
    "df = pd.concat([train, test])\n",
    "\n",
    "train_columns = train.columns.to_list()\n",
    "\n",
    "g_list = [\n",
    "    i for i in train_columns if i.startswith('g-')\n",
    "]\n",
    "\n",
    "c_list = [\n",
    "    i for i in train_columns if i.startswith('c-')\n",
    "]\n",
    "\n",
    "columns = g_list + c_list\n",
    "cols = ['cp_time'] + columns\n",
    "all_columns = list()"
   ]
  },
  {
   "cell_type": "code",
   "execution_count": 4,
   "metadata": {},
   "outputs": [],
   "source": [
    "for i in range(0, len(cols)):\n",
    "    for j in range(i+1, len(cols)):\n",
    "        if abs(train[cols[i]].corr(train[cols[j]])) > 0.9:\n",
    "            all_columns = all_columns + [cols[i], cols[j]]\n",
    "all_columns = list(set(all_columns))"
   ]
  },
  {
   "cell_type": "code",
   "execution_count": 5,
   "metadata": {},
   "outputs": [
    {
     "name": "stdout",
     "output_type": "stream",
     "text": [
      "Number of columns: 35\n",
      "['c-94', 'c-18', 'c-10', 'c-6', 'c-13', 'c-38', 'c-93', 'g-50', 'c-96', 'c-11', 'c-90', 'c-63', 'c-4', 'c-60', 'c-51', 'c-54', 'c-2', 'c-26', 'c-42', 'c-73', 'c-81', 'c-82', 'c-8', 'c-66', 'g-37', 'c-62', 'c-55', 'c-31', 'c-33', 'c-40', 'c-17', 'c-85', 'c-1', 'c-75', 'c-52']\n"
     ]
    }
   ],
   "source": [
    "print('Number of columns:', len(all_columns))\n",
    "print(all_columns)\n"
   ]
  },
  {
   "cell_type": "code",
   "execution_count": 15,
   "metadata": {},
   "outputs": [],
   "source": [
    "all_columns_df = pd.DataFrame(all_columns,columns=[\"best_features\"])\n",
    "all_columns_df.to_csv(\"../lish-moa/best_features.csv\")"
   ]
  }
 ],
 "metadata": {
  "kernelspec": {
   "display_name": "Python 3",
   "language": "python",
   "name": "python3"
  },
  "language_info": {
   "codemirror_mode": {
    "name": "ipython",
    "version": 3
   },
   "file_extension": ".py",
   "mimetype": "text/x-python",
   "name": "python",
   "nbconvert_exporter": "python",
   "pygments_lexer": "ipython3",
   "version": "3.8.5"
  }
 },
 "nbformat": 4,
 "nbformat_minor": 4
}
